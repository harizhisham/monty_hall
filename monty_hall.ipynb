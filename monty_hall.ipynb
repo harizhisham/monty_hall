{
 "cells": [
  {
   "cell_type": "markdown",
   "metadata": {},
   "source": [
    "# Monty Hall\n",
    "\n",
    "### FNCE 3436\n",
    "\n",
    "#### Case Study"
   ]
  },
  {
   "cell_type": "markdown",
   "metadata": {},
   "source": [
    "![make a deal](./img/lmad.jpg)\n",
    "\n",
    "[Monty Hall Problem](https://www.youtube.com/watch?v=cXqDIFUB7YU\")\n",
    "\n",
    "[wikipedia](https://en.wikipedia.org/wiki/Monty_Hall_problem)"
   ]
  },
  {
   "cell_type": "markdown",
   "metadata": {},
   "source": [
    "# Background\n",
    "\n",
    "Let's assume that you're working for a TV producer trying to design a game show.  He tells you about the old show \"Let's Make A Deal\" hosted by Monty Hall.  In this game, contestants were presented with the 3 door problem as a two step game:\n",
    "\n",
    "### 1. Step One\n",
    "\n",
    "A contestant is shown three closed doors.  He/she is told one door hides a new car while the two others conceal goats.  The contestant is asked to pick one of three doors.\n",
    "\n",
    "### 2. Step Two\n",
    "\n",
    "Once the contestant indicates his/her choice, the game show host (who knows where the car is located) opens one of the two remaining doors, which (of course) reveals a goat.  The contestant is then asked if they want to keep the door they had chosen previously or choose a new one?\n",
    "\n",
    "### The Opportunity\n",
    "\n",
    "Historically, 87% of contestants would \"stick to their guns\" and refuse the option to change doors.  The producer is very excited about running the new show and has already invested $1,000,000 in a set with 3 doors, a small lot near the studio where the three young goats can graze (they got one extra goat in case one is sick).  The goats are expected to live for another 10 to 15 years.  Given that the show airs once per week (with two weeks off per year), the Producer expects to put on 50 episodes per year.  \n",
    "\n",
    "The initial investment will be amortized over 2 years.   Assume each show costs 100,000 to produce.  Each car costs 50,000. The revenue consists of 7 minutes of commercials.  Each 30 second commercial generates 10,000 in revenue.\n",
    "\n",
    "In the 1970s, Let's Make A Deal was one of the highest rated shows on TV and there's every reason to believe it'll be successful today.\n",
    "\n",
    "### The Problem\n",
    "As the new analyst for the show, you express concern that in the age of the internet, a winning strategy could easily become known to participants.  As such, the show's p&l may be adversely impacted."
   ]
  },
  {
   "cell_type": "markdown",
   "metadata": {},
   "source": [
    "# Questions"
   ]
  },
  {
   "cell_type": "markdown",
   "metadata": {},
   "source": [
    "#### Q1 \n",
    "\n",
    "Build simulator of the player strategies.  One where the player employs:\n",
    "\n",
    "1. The stick to your guns strategy -- don't change doors with new information;\n",
    "2. The other where the player plays with the door switching strategy;\n",
    "\n",
    "Build your code so that you can simulate up to N rounds (N=100 to start).  Be sure to show your answer in graphical form."
   ]
  },
  {
   "cell_type": "markdown",
   "metadata": {},
   "source": [
    "#### Q2\n",
    "\n",
    "Build the Profit & Loss simulator for the TV show.  What is the cumulative weekly P&L expected over the two years under the following scenarios:\n",
    "\n",
    "(i) Assume contestants always know the winning strategy;  \n",
    "(ii) Assuming the old statistics hold and 13% of contestants actually switch doors;  \n",
    "(iii) Should you proceed with running the show?  Explain why or why not?\n",
    "\n",
    "Provide Average Weekly Financial Statements and show your answer in graphical form."
   ]
  },
  {
   "cell_type": "markdown",
   "metadata": {},
   "source": [
    "#### Q3\n",
    "\n",
    "You might recall that the Producer has made the investment in the TV studio and the goats.  If you decide the risk is too high to proceed in the age of the internet, what suggestions would you make to improve the probability of a positive p&l?\n",
    "\n",
    "Explain why and show a simulation."
   ]
  },
  {
   "cell_type": "markdown",
   "metadata": {},
   "source": []
  }
 ],
 "metadata": {
  "kernelspec": {
   "display_name": "Python 3",
   "language": "python",
   "name": "python3"
  },
  "language_info": {
   "codemirror_mode": {
    "name": "ipython",
    "version": 3
   },
   "file_extension": ".py",
   "mimetype": "text/x-python",
   "name": "python",
   "nbconvert_exporter": "python",
   "pygments_lexer": "ipython3",
   "version": "3.7.4"
  }
 },
 "nbformat": 4,
 "nbformat_minor": 2
}
