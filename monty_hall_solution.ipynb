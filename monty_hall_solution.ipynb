{
 "cells": [
  {
   "cell_type": "code",
   "execution_count": 285,
   "metadata": {},
   "outputs": [
    {
     "name": "stdout",
     "output_type": "stream",
     "text": [
      "Populating the interactive namespace from numpy and matplotlib\n"
     ]
    }
   ],
   "source": [
    "%pylab inline\n",
    "import pandas as pd\n",
    "import seaborn as sns\n",
    "import matplotlib.pyplot as plt\n",
    "import matplotlib.ticker as ticker\n",
    "\n",
    "plt.style.use('ggplot')\n",
    "plt.rcParams['figure.figsize'] = 15,8"
   ]
  },
  {
   "cell_type": "markdown",
   "metadata": {},
   "source": [
    "### Monty Hall Problem"
   ]
  },
  {
   "cell_type": "markdown",
   "metadata": {},
   "source": [
    "Author: Hariz Mohd Rani Hisham"
   ]
  },
  {
   "cell_type": "code",
   "execution_count": 431,
   "metadata": {},
   "outputs": [],
   "source": [
    "def prize_door():\n",
    "    state = np.random.random()\n",
    "    door = None\n",
    "    if state <= 0.3333:\n",
    "        door = 1\n",
    "        return door\n",
    "    elif (0.3333 < state) & (state <= 0.6667):\n",
    "        door = 2\n",
    "        return door\n",
    "    else:\n",
    "        door = 3\n",
    "        return door\n",
    "\n",
    "def player_choice():\n",
    "    return prize_door()"
   ]
  },
  {
   "cell_type": "code",
   "execution_count": 434,
   "metadata": {},
   "outputs": [],
   "source": [
    "def open_door(prize, choice):\n",
    "    show = np.random.random()\n",
    "    ls = [1,2,3]\n",
    "    if prize == choice:\n",
    "        ls.remove(prize)\n",
    "        return random.choice(ls)\n",
    "    elif show > 0.5:\n",
    "        return None\n",
    "    else:\n",
    "        ls.remove(prize)\n",
    "        ls.remove(choice)\n",
    "        return ls[0]"
   ]
  },
  {
   "cell_type": "code",
   "execution_count": 435,
   "metadata": {},
   "outputs": [],
   "source": [
    "df = pd.DataFrame(columns = ['prize','choice','shown','vegas_win','smart_win'])\n",
    "\n",
    "N = 100\n",
    "\n",
    "lprize = []\n",
    "lchoice = []\n",
    "lshow = []\n",
    "\n",
    "for i in range(N):\n",
    "    lprize.append(prize_door())\n",
    "    lchoice.append(player_choice())\n",
    "    \n",
    "df['prize'] = lprize\n",
    "df['choice'] = lchoice\n",
    "\n",
    "for i in range(N):\n",
    "    lshow.append(open_door(df['prize'][i], df['choice'][i]))\n",
    "    \n",
    "df['shown'] = lshow    "
   ]
  },
  {
   "cell_type": "markdown",
   "metadata": {},
   "source": [
    "__Q1 Simulating player strategies__"
   ]
  },
  {
   "cell_type": "markdown",
   "metadata": {},
   "source": [
    "Player strategy simulations are broken down into two strategies:\n",
    "1. __The stay strategy:__ In this notebook, we'll call it \"Vegas\", mainly for the fact that most people who gamble in Las Vegas tend to believe in superstition and the power of luck when making bets. This strategy assumes the player will __always stick to their initial door__. Given that there are 3 doors to choose from, the probability of the player making the right choice and not switching is 1/3 or 0.3333.\n",
    "2. __The switch strategy:__ Here, we'll call it the \"Smart\" strategy. In this strategy, we assume that the player will __always switch__ doors. This also assumes that the probability of a player winning after switching doors is 2/3 or 0.6667."
   ]
  },
  {
   "cell_type": "markdown",
   "metadata": {},
   "source": [
    "__First, the Vegas strategy:__"
   ]
  },
  {
   "cell_type": "code",
   "execution_count": null,
   "metadata": {},
   "outputs": [],
   "source": [
    "def vegas_strategy(N = 1000, switch = 0):\n",
    "    p = 0.3333  # Probability of player choosing winning door\n",
    "    switch = switch  # Probability of player changing strategies\n",
    "    win_count = 0\n",
    "    loss_count = 0\n",
    "    record = []\n",
    "    for i in range(N):\n",
    "        if switch:\n",
    "            p = 0.6667\n",
    "        x = (np.random.random() < p)\n",
    "        if x:\n",
    "            win_count += 1\n",
    "            record.append((i + 1, win_count, loss_count))\n",
    "        else:\n",
    "            loss_count += 1\n",
    "            record.append((i + 1, win_count, loss_count))\n",
    "    return record"
   ]
  },
  {
   "cell_type": "code",
   "execution_count": 198,
   "metadata": {},
   "outputs": [],
   "source": [
    "vegas = pd.DataFrame(vegas_strategy(N = 100),\n",
    "                     columns = ['game', 'win_count', 'loss_count'])\n",
    "vegas['win_freq'] = vegas['win_count'] / vegas['game']"
   ]
  },
  {
   "cell_type": "code",
   "execution_count": 199,
   "metadata": {},
   "outputs": [
    {
     "data": {
      "image/png": "[encoded data removed]",
      "text/plain": [
       "<Figure size 432x288 with 1 Axes>"
      ]
     },
     "metadata": {
      "needs_background": "light"
     },
     "output_type": "display_data"
    }
   ],
   "source": [
    "import seaborn as sns\n",
    "import matplotlib.pyplot as plt\n",
    "import matplotlib.ticker as ticker\n",
    "\n",
    "ax = sns.lineplot(x = 'game', y = 'win_freq', data = vegas)\n",
    "ax.xaxis.set_major_locator(ticker.MultipleLocator(10))\n",
    "\n",
    "plt.show()"
   ]
  },
  {
   "cell_type": "markdown",
   "metadata": {},
   "source": [
    "For 100 games simulated, we can see that the player's win frequency with the stay strategy converges to around 0.3333, as we expected."
   ]
  },
  {
   "cell_type": "markdown",
   "metadata": {},
   "source": [
    "__The Smart strategy:__"
   ]
  },
  {
   "cell_type": "code",
   "execution_count": null,
   "metadata": {},
   "outputs": [],
   "source": [
    "def smart_strategy(N = 1000, switch = 1):\n",
    "    p = 0.3333  # Probability of player choosing winning door\n",
    "    switch = switch  # Probability of player changing doors\n",
    "    win_count = 0\n",
    "    loss_count = 0\n",
    "    record = []\n",
    "    for i in range(N):\n",
    "        if switch:\n",
    "            p = 0.6667\n",
    "        x = (np.random.random() < p)\n",
    "        if x:\n",
    "            win_count += 1\n",
    "            record.append((i + 1, win_count, loss_count))\n",
    "        else:\n",
    "            loss_count += 1\n",
    "            record.append((i + 1, win_count, loss_count))\n",
    "    return record"
   ]
  },
  {
   "cell_type": "code",
   "execution_count": 187,
   "metadata": {},
   "outputs": [],
   "source": [
    "smart = pd.DataFrame(smart_strategy(N = 100), columns = ['game', 'win_count', 'loss_count'])\n",
    "smart['win_freq'] = smart['win_count'] / smart['game']"
   ]
  },
  {
   "cell_type": "code",
   "execution_count": 190,
   "metadata": {},
   "outputs": [
    {
     "data": {
      "image/png": "[encoded data removed]",
      "text/plain": [
       "<Figure size 432x288 with 1 Axes>"
      ]
     },
     "metadata": {
      "needs_background": "light"
     },
     "output_type": "display_data"
    }
   ],
   "source": [
    "bx = sns.lineplot(x = 'game', y = 'win_freq', data = smart)\n",
    "bx.xaxis.set_major_locator(ticker.MultipleLocator(10))\n",
    "\n",
    "plt.show()"
   ]
  },
  {
   "cell_type": "markdown",
   "metadata": {},
   "source": [
    "After simulating 100 games, we can observe that the player's win frequency converges to 0.6667 or 2/3 with the switch strategy."
   ]
  },
  {
   "cell_type": "markdown",
   "metadata": {},
   "source": [
    "__Q2 Simulating the Game__"
   ]
  },
  {
   "cell_type": "markdown",
   "metadata": {},
   "source": [
    "With some modifications to the initial \"Vegas\" and \"Smart\" strategies, we can include the assumed 13% probability that a player will employ a switch strategy in any given game."
   ]
  },
  {
   "cell_type": "code",
   "execution_count": 386,
   "metadata": {},
   "outputs": [],
   "source": [
    "def vegas_strategy(switch, i, win_count, loss_count):\n",
    "    p = 0.3333  # Probability of player choosing winning door\n",
    "    switch = switch  # Probability of player changing strategies\n",
    "    if switch:\n",
    "        p = 0.6667\n",
    "    x = (np.random.random() <= p)\n",
    "    if x:\n",
    "        i += 1\n",
    "        win_count = 1\n",
    "        return i, win_count, loss_count, 'stay'\n",
    "    else:\n",
    "        i += 1\n",
    "        loss_count = 1\n",
    "        return i, win_count, loss_count, 'stay'\n",
    "\n",
    "def smart_strategy(switch, i, win_count, loss_count):\n",
    "    p = 0.3333  # Probability of player choosing winning door\n",
    "    switch = switch  # Probability of player changing doors\n",
    "    if switch:\n",
    "        p = 0.6667\n",
    "    x = (np.random.random() <= p)\n",
    "    if x:\n",
    "        i += 1\n",
    "        win_count = 1\n",
    "        return i, win_count, loss_count, 'switch'\n",
    "    else:\n",
    "        i += 1\n",
    "        loss_count = 1\n",
    "        return i, win_count, loss_count, 'switch'"
   ]
  },
  {
   "cell_type": "code",
   "execution_count": 401,
   "metadata": {},
   "outputs": [],
   "source": [
    "def game(N = 100):\n",
    "    I = [-1000000]  # Initial investment\n",
    "    E = 100000  # Weekly production expense\n",
    "    C = 50000  # Cost of each car\n",
    "    R = 7/0.5 * 10000  # Weekly ad revenue\n",
    "    \n",
    "    record = []\n",
    "    p = 0.13  # Probability of player switching doors\n",
    "    win_count = 0\n",
    "    loss_count = 0\n",
    "    for i in range(N):\n",
    "        switch = 0\n",
    "        if (np.random.random() <= p):\n",
    "            switch = 1\n",
    "            record.append(smart_strategy(switch, i, win_count, loss_count))\n",
    "        else:\n",
    "            record.append(vegas_strategy(switch, i, win_count, loss_count))\n",
    "    record = [record[i] + (I[i],) for i in range(len(record))]\n",
    "    return pd.DataFrame(record, columns = ['games', 'win_count', 'loss_count', 'strategy'])"
   ]
  },
  {
   "cell_type": "code",
   "execution_count": 413,
   "metadata": {},
   "outputs": [],
   "source": [
    "def profits(outcome, revenue, expense, car = 0):\n",
    "    profit = 0\n",
    "    if outcome:\n",
    "        profit = revenue - expense - car\n",
    "        return profit\n",
    "    else:\n",
    "        profit = revenue - expense\n",
    "        return profit\n",
    "    \n",
    "def game(N = 100):\n",
    "    I = [-1000000]  # Initial investment\n",
    "    E = 100000  # Weekly production expense\n",
    "    C = 50000  # Cost of each car\n",
    "    R = 7/0.5 * 10000  # Weekly ad revenue\n",
    "    \n",
    "    record = []\n",
    "    p = 0.13  # Probability of player switching doors\n",
    "    win_count = 0\n",
    "    loss_count = 0\n",
    "    for i in range(N):\n",
    "        switch = 0\n",
    "        if (np.random.random() <= p):\n",
    "            switch = 1\n",
    "            record.append(smart_strategy(switch, i, win_count, loss_count))\n",
    "            if record[-1][1]:\n",
    "                P = profits(record[-1][1], R, E, C)\n",
    "                I += [I[-1] + P]\n",
    "            else:\n",
    "                P = profits(record[-1][2], R, E)\n",
    "                I += [I[-1] + P]\n",
    "        else:\n",
    "            record.append(vegas_strategy(switch, i, win_count, loss_count))\n",
    "            if record[-1][1]:\n",
    "                P = profits(record[-1][1], R, E, C)\n",
    "                I += [I[-1] + P]\n",
    "            else:\n",
    "                P = profits(record[-1][2], R, E)\n",
    "                I += [I[-1] + P]\n",
    "    record = [record[i] + (I[i],) for i in range(len(record))]\n",
    "    return pd.DataFrame(record, columns = ['games', 'win_count', 'loss_count', 'strategy', 'net_profit'])"
   ]
  },
  {
   "cell_type": "code",
   "execution_count": 416,
   "metadata": {},
   "outputs": [],
   "source": [
    "def main():\n",
    "    df = game()\n",
    "    df['win_record'] = df['win_count'].cumsum()\n",
    "    df['loss_record'] = df['loss_count'].cumsum()\n",
    "    df['win_freq'] = df['win_record'] / df['games']\n",
    "    df['house_wins'] = 1 - df['win_freq']\n",
    "\n",
    "    ax = sns.lineplot(x = 'games', y = 'net_profit', data = df)\n",
    "    ax.xaxis.set_major_locator(ticker.MultipleLocator(10))\n",
    "\n",
    "    print(df.tail(15))\n",
    "    plt.show()"
   ]
  },
  {
   "cell_type": "code",
   "execution_count": 417,
   "metadata": {},
   "outputs": [
    {
     "name": "stdout",
     "output_type": "stream",
     "text": [
      "    games  win_count  loss_count strategy  net_profit  win_record  \\\n",
      "85     86          0           1   switch    850000.0          31   \n",
      "86     87          1           0     stay    890000.0          32   \n",
      "87     88          1           0     stay    880000.0          33   \n",
      "88     89          0           1     stay    870000.0          33   \n",
      "89     90          1           0   switch    910000.0          34   \n",
      "90     91          0           1     stay    900000.0          34   \n",
      "91     92          0           1     stay    940000.0          34   \n",
      "92     93          1           0   switch    980000.0          35   \n",
      "93     94          0           1     stay    970000.0          35   \n",
      "94     95          1           0     stay   1010000.0          36   \n",
      "95     96          0           1     stay   1000000.0          36   \n",
      "96     97          0           1     stay   1040000.0          36   \n",
      "97     98          1           0     stay   1080000.0          37   \n",
      "98     99          1           0   switch   1070000.0          38   \n",
      "99    100          1           0     stay   1060000.0          39   \n",
      "\n",
      "    loss_record  win_freq  house_wins  \n",
      "85           55  0.360465    0.639535  \n",
      "86           55  0.367816    0.632184  \n",
      "87           55  0.375000    0.625000  \n",
      "88           56  0.370787    0.629213  \n",
      "89           56  0.377778    0.622222  \n",
      "90           57  0.373626    0.626374  \n",
      "91           58  0.369565    0.630435  \n",
      "92           58  0.376344    0.623656  \n",
      "93           59  0.372340    0.627660  \n",
      "94           59  0.378947    0.621053  \n",
      "95           60  0.375000    0.625000  \n",
      "96           61  0.371134    0.628866  \n",
      "97           61  0.377551    0.622449  \n",
      "98           61  0.383838    0.616162  \n",
      "99           61  0.390000    0.610000  \n"
     ]
    },
    {
     "data": {
      "image/png": "[encoded data removed]",
      "text/plain": [
       "<Figure size 1080x576 with 1 Axes>"
      ]
     },
     "metadata": {},
     "output_type": "display_data"
    }
   ],
   "source": [
    "if __name__ == '__main__':\n",
    "    main()"
   ]
  },
  {
   "cell_type": "markdown",
   "metadata": {},
   "source": [
    "So with our assumptions that 13% of players will switch doors as well as the fact that the studio has made a $1 million dollar investment in this show, it looks like we'll only breakeven after about a year of production. Not very good by 1970's consevative businesses standards.\n",
    "\n",
    "Well, what can we do?\n",
    "\n",
    "Recall that players know two things:\n",
    "1. The probability of a player choosing the right door on the first try is 1/3. When offered the switch, that probability bumps up to 2/3 chance of winning.\n",
    "2. The host knows where the car is and will never open the door with the car. He will always open the door with the goat.\n",
    "\n",
    "How can we take advantage of these assumptions to make it harder for the player to win the car? (and take home a goat instead)."
   ]
  },
  {
   "cell_type": "markdown",
   "metadata": {},
   "source": [
    "__Q3 Making things harder__"
   ]
  },
  {
   "cell_type": "markdown",
   "metadata": {},
   "source": [
    "We'll adjust the code to add an additional door. We can do this by changing the player's probability of getting it right on the first try from 1/3 to 1/4."
   ]
  },
  {
   "cell_type": "code",
   "execution_count": 445,
   "metadata": {},
   "outputs": [],
   "source": [
    "def vegas_strategy(switch, i, win_count, loss_count):\n",
    "    p = 0.25  # Probability of player choosing winning door\n",
    "    switch = switch  # Probability of player changing strategies\n",
    "    if switch:\n",
    "        p = 0.25  # Probability of winning on second try\n",
    "    x = (np.random.random() <= p)\n",
    "    if x:\n",
    "        i += 1\n",
    "        win_count = 1\n",
    "        return i, win_count, loss_count, 'stay'\n",
    "    else:\n",
    "        i += 1\n",
    "        loss_count = 1\n",
    "        return i, win_count, loss_count, 'stay'\n",
    "\n",
    "def smart_strategy(switch, i, win_count, loss_count):\n",
    "    p = 0.25  # Probability of player choosing winning door\n",
    "    switch = switch  # Probability of player changing doors\n",
    "    if switch:\n",
    "        p = 0.25  # Probability of winning on second try\n",
    "    x = (np.random.random() <= p)\n",
    "    if x:\n",
    "        i += 1\n",
    "        win_count = 1\n",
    "        return i, win_count, loss_count, 'switch'\n",
    "    else:\n",
    "        i += 1\n",
    "        loss_count = 1\n",
    "        return i, win_count, loss_count, 'switch'"
   ]
  },
  {
   "cell_type": "code",
   "execution_count": 446,
   "metadata": {},
   "outputs": [],
   "source": [
    "def profits(outcome, revenue, expense, car = 0):\n",
    "    profit = 0\n",
    "    if outcome:\n",
    "        profit = revenue - expense - car\n",
    "        return profit\n",
    "    else:\n",
    "        profit = revenue - expense\n",
    "        return profit\n",
    "    \n",
    "def game(N = 100):\n",
    "    I = [-1000000]  # Initial investment\n",
    "    E = 100000  # Weekly production expense\n",
    "    C = 50000  # Cost of each car\n",
    "    R = 7/0.5 * 10000  # Weekly ad revenue\n",
    "    \n",
    "    record = []\n",
    "    p = 0.13  # Probability of player switching doors\n",
    "    win_count = 0\n",
    "    loss_count = 0\n",
    "    for i in range(N):\n",
    "        switch = 0\n",
    "        if (np.random.random() <= p):\n",
    "            switch = 1\n",
    "            record.append(smart_strategy(switch, i, win_count, loss_count))\n",
    "            if record[-1][1]:\n",
    "                P = profits(record[-1][1], R, E, C)\n",
    "                I += [I[-1] + P]\n",
    "            else:\n",
    "                P = profits(record[-1][2], R, E)\n",
    "                I += [I[-1] + P]\n",
    "        else:\n",
    "            record.append(vegas_strategy(switch, i, win_count, loss_count))\n",
    "            if record[-1][1]:\n",
    "                P = profits(record[-1][1], R, E, C)\n",
    "                I += [I[-1] + P]\n",
    "            else:\n",
    "                P = profits(record[-1][2], R, E)\n",
    "                I += [I[-1] + P]\n",
    "    record = [record[i] + (I[i],) for i in range(len(record))]\n",
    "    return pd.DataFrame(record, columns = ['games', 'win_count', 'loss_count', 'strategy', 'net_profit'])"
   ]
  },
  {
   "cell_type": "code",
   "execution_count": 447,
   "metadata": {},
   "outputs": [],
   "source": [
    "def main():\n",
    "    df = game()\n",
    "    df['win_record'] = df['win_count'].cumsum()\n",
    "    df['loss_record'] = df['loss_count'].cumsum()\n",
    "    df['win_freq'] = df['win_record'] / df['games']\n",
    "    df['house_wins'] = 1 - df['win_freq']\n",
    "\n",
    "    ax = sns.lineplot(x = 'games', y = 'net_profit', data = df)\n",
    "    ax.xaxis.set_major_locator(ticker.MultipleLocator(10))\n",
    "\n",
    "    print(df.tail(15))\n",
    "    plt.show()"
   ]
  },
  {
   "cell_type": "code",
   "execution_count": 449,
   "metadata": {},
   "outputs": [
    {
     "name": "stdout",
     "output_type": "stream",
     "text": [
      "    games  win_count  loss_count strategy  net_profit  win_record  \\\n",
      "85     86          0           1     stay   1500000.0          18   \n",
      "86     87          0           1     stay   1540000.0          18   \n",
      "87     88          0           1     stay   1580000.0          18   \n",
      "88     89          1           0     stay   1620000.0          19   \n",
      "89     90          0           1     stay   1610000.0          19   \n",
      "90     91          0           1   switch   1650000.0          19   \n",
      "91     92          1           0   switch   1690000.0          20   \n",
      "92     93          0           1     stay   1680000.0          20   \n",
      "93     94          0           1     stay   1720000.0          20   \n",
      "94     95          0           1     stay   1760000.0          20   \n",
      "95     96          0           1     stay   1800000.0          20   \n",
      "96     97          0           1     stay   1840000.0          20   \n",
      "97     98          0           1     stay   1880000.0          20   \n",
      "98     99          1           0     stay   1920000.0          21   \n",
      "99    100          0           1     stay   1910000.0          21   \n",
      "\n",
      "    loss_record  win_freq  house_wins  \n",
      "85           68  0.209302    0.790698  \n",
      "86           69  0.206897    0.793103  \n",
      "87           70  0.204545    0.795455  \n",
      "88           70  0.213483    0.786517  \n",
      "89           71  0.211111    0.788889  \n",
      "90           72  0.208791    0.791209  \n",
      "91           72  0.217391    0.782609  \n",
      "92           73  0.215054    0.784946  \n",
      "93           74  0.212766    0.787234  \n",
      "94           75  0.210526    0.789474  \n",
      "95           76  0.208333    0.791667  \n",
      "96           77  0.206186    0.793814  \n",
      "97           78  0.204082    0.795918  \n",
      "98           78  0.212121    0.787879  \n",
      "99           79  0.210000    0.790000  \n"
     ]
    },
    {
     "data": {
      "image/png": "[encoded data removed]",
      "text/plain": [
       "<Figure size 1080x576 with 1 Axes>"
      ]
     },
     "metadata": {},
     "output_type": "display_data"
    }
   ],
   "source": [
    "if __name__ == '__main__':\n",
    "    main()"
   ]
  },
  {
   "cell_type": "markdown",
   "metadata": {},
   "source": [
    "By adding an additional door, the probability of the player getting it right the first time decreased to 0.25 or 1/4. After revealing the door and choosing the switch, the probability of the player getting the second guess right is 0.75 * 0.3333, or roughly 0.25.\n",
    "\n",
    "Adjusting for this, we see that the show breakseven ~15 weeks earlier than before, with an even higher net profit after a 2 year run."
   ]
  },
  {
   "cell_type": "markdown",
   "metadata": {},
   "source": [
    "__Conclusion__"
   ]
  },
  {
   "cell_type": "markdown",
   "metadata": {},
   "source": [
    "Monty Hall is hard, perplexing, even mystical sometimes. It challenges our human intuition to trust our gut in high stakes situations and instead rely on simulated numbers to win. But let's be real, winning a car isn't all that great - you end up spending more down the road on maintenance and taxes.\n",
    "\n",
    "Instead, let's take a moment to appreciate the beauty of the math behind Monty Hall and how it has informed us of the common fallacies our simpleton brains come across when dealing with statistics."
   ]
  },
  {
   "cell_type": "code",
   "execution_count": null,
   "metadata": {},
   "outputs": [],
   "source": []
  }
 ],
 "metadata": {
  "kernelspec": {
   "display_name": "Python 3",
   "language": "python",
   "name": "python3"
  },
  "language_info": {
   "codemirror_mode": {
    "name": "ipython",
    "version": 3
   },
   "file_extension": ".py",
   "mimetype": "text/x-python",
   "name": "python",
   "nbconvert_exporter": "python",
   "pygments_lexer": "ipython3",
   "version": "3.7.4"
  }
 },
 "nbformat": 4,
 "nbformat_minor": 4
}
